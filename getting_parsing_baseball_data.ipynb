{
 "cells": [
  {
   "cell_type": "code",
   "execution_count": 15,
   "id": "ca382964",
   "metadata": {},
   "outputs": [],
   "source": [
    "import os\n",
    "import wget\n",
    "from zipfile import ZipFile\n",
    "import pandas as pd\n",
    "pd.set_option('display.max_columns', None)"
   ]
  },
  {
   "cell_type": "code",
   "execution_count": 16,
   "id": "2c070fca",
   "metadata": {},
   "outputs": [],
   "source": [
    "def download_zipfile_from_url(url_str, output_name):\n",
    "    print(f\"Downloading data from {url_str}\")\n",
    "    output_filepath = os.path.join(os.getcwd(), 'zip_files', output_name)\n",
    "    wget.download(url_str, output_filepath)\n",
    "    print(f\"Downloaded zip file to {output_filepath}\\n\")\n",
    "    return output_filepath\n",
    "\n",
    "def unzip_file(zip_filepath, output_dir):\n",
    "    with ZipFile(zip_filepath, 'r') as zipObj:\n",
    "        zipObj.extractall(output_dir)\n",
    "    print(f\"Unzipped File to {output_dir}\\n\")\n",
    "    return None\n",
    "\n",
    "def parse_retrosheet_events():\n",
    "    os.chdir('retrosheet_raw')\n",
    "    for filename in os.listdir(os.getcwd()):\n",
    "        if '.EV' in filename:\n",
    "            cmd_str = f\"cwevent -n -f 0-96 -y 2020 {filename} > {filename.split('.')[0] + '.csv'}\"\n",
    "            os.system(cmd_str)\n",
    "            os.remove(filename)\n",
    "    print(f\"Parsed Retrosheet data\")\n",
    "    os.chdir('../')\n",
    "    return None"
   ]
  },
  {
   "cell_type": "code",
   "execution_count": 17,
   "id": "efc3331a",
   "metadata": {},
   "outputs": [
    {
     "name": "stdout",
     "output_type": "stream",
     "text": [
      "Downloading data from https://github.com/chadwickbureau/baseballdatabank/archive/master.zip\n",
      "Downloaded zip file to C:\\Users\\Michael Kalmus\\python_dev\\retrosheet_parsing\\retrosheet_parsing\\zip_files\\lahman_db_master.zip\n",
      "\n",
      "Unzipped File to C:\\Users\\Michael Kalmus\\python_dev\\retrosheet_parsing\\retrosheet_parsing\\final_data\n",
      "\n",
      "Downloading data from http://www.retrosheet.org/events/2020eve.zip\n",
      "Downloaded zip file to C:\\Users\\Michael Kalmus\\python_dev\\retrosheet_parsing\\retrosheet_parsing\\zip_files\\2020eve.zip\n",
      "\n",
      "Unzipped File to retrosheet_raw\n",
      "\n",
      "Parsed Retrosheet data\n",
      "Downloading data from https://www.retrosheet.org/gamelogs/gl2020.zip\n",
      "Downloaded zip file to C:\\Users\\Michael Kalmus\\python_dev\\retrosheet_parsing\\retrosheet_parsing\\zip_files\\gl2020.zip\n",
      "\n",
      "Unzipped File to C:\\Users\\Michael Kalmus\\python_dev\\retrosheet_parsing\\retrosheet_parsing\\retrosheet_raw\n",
      "\n"
     ]
    }
   ],
   "source": [
    "#01. LAHMAN DATA\n",
    "\n",
    "## Download \n",
    "lahman_zip_filepath = download_zipfile_from_url(\n",
    "    url_str=\"https://github.com/chadwickbureau/baseballdatabank/archive/master.zip\", \n",
    "    output_name='lahman_db_master.zip')\n",
    "\n",
    "## Unzip\n",
    "unzip_file(\n",
    "    zip_filepath=lahman_zip_filepath,\n",
    "    output_dir=os.path.join(os.getcwd(), 'final_data'))\n",
    "\n",
    "# 02. RETROSHEET PLAY-BY-PLAY DATA\n",
    "\n",
    "## Download \n",
    "retrosheet_event_zip_filepath = download_zipfile_from_url(\n",
    "    url_str=\"http://www.retrosheet.org/events/2020eve.zip\", \n",
    "    output_name='2020eve.zip')\n",
    "## Unzip\n",
    "#Get Retrosheet EVENT Data (raw)\n",
    "unzip_file(\n",
    "    zip_filepath=retrosheet_event_zip_filepath, \n",
    "    output_dir='retrosheet_raw')\n",
    "\n",
    "#Convert Retrosheet event files to csv, using Chadwick's parser\n",
    "parse_retrosheet_events()\n",
    "\n",
    "#Output all csvs to one dataframe with column names added\n",
    "all_pbp_data = pd.DataFrame()\n",
    "all_roster_data = pd.DataFrame()\n",
    "roster_headers = ['PlayerID', 'LastName', 'FirstName', 'Bats', 'Pitches', 'Team', 'Position']\n",
    "\n",
    "for filename in os.listdir(os.path.join(os.getcwd(), 'retrosheet_raw')):\n",
    "    if '.csv' in filename:\n",
    "        pbp_df = pd.read_csv(os.path.join(os.getcwd(), 'retrosheet_raw', filename), header=0)\n",
    "        all_pbp_data = all_pbp_data.append(pbp_df)\n",
    "    if '.ROS' in filename:\n",
    "        roster_df = pd.read_csv(os.path.join(os.getcwd(), 'retrosheet_raw', filename), header=None, names=roster_headers)\n",
    "        all_roster_data = all_roster_data.append(roster_df)\n",
    "        \n",
    "all_pbp_data.to_csv('final_data/retrosheet_pbp/all_pbp_data.csv')\n",
    "all_roster_data.to_csv('final_data/retrosheet_rosters/all_roster_data.csv')\n",
    "\n",
    "#Download Retrosheet game log data\n",
    "retrosheet_gamelog_zip_filepath = download_zipfile_from_url(\n",
    "    url_str=\"https://www.retrosheet.org/gamelogs/gl2020.zip\", \n",
    "    output_name='gl2020.zip')\n",
    "\n",
    "#Get Retrosheet EVENT Data (raw)\n",
    "unzip_file(\n",
    "    zip_filepath=retrosheet_gamelog_zip_filepath, \n",
    "    output_dir=os.path.join(os.getcwd(), 'retrosheet_raw'))\n",
    "\n",
    "gamelog_headers = list(pd.read_csv('https://raw.githubusercontent.com/maxtoki/baseball_R/master/data/game_log_header.csv').columns)\n",
    "gamelog_df = pd.read_csv('retrosheet_raw/GL2020.txt', header=None, names=gamelog_headers)\n",
    "gamelog_df.to_csv('final_data/retrosheet_gamelogs/gamelog_2020.csv')"
   ]
  },
  {
   "cell_type": "code",
   "execution_count": null,
   "id": "b94d767e",
   "metadata": {},
   "outputs": [],
   "source": []
  }
 ],
 "metadata": {
  "kernelspec": {
   "display_name": "Python 3",
   "language": "python",
   "name": "python3"
  },
  "language_info": {
   "codemirror_mode": {
    "name": "ipython",
    "version": 3
   },
   "file_extension": ".py",
   "mimetype": "text/x-python",
   "name": "python",
   "nbconvert_exporter": "python",
   "pygments_lexer": "ipython3",
   "version": "3.8.10"
  }
 },
 "nbformat": 4,
 "nbformat_minor": 5
}
