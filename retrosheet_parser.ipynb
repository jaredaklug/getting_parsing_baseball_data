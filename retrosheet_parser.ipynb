{
 "cells": [
  {
   "cell_type": "code",
   "execution_count": 1,
   "id": "b6fb218d",
   "metadata": {},
   "outputs": [],
   "source": [
    "def download_event_zips(season):\n",
    "    import wget\n",
    "    season = 2020\n",
    "    event_url = f\"http://www.retrosheet.org/events/{season}eve.zip\"\n",
    "    zipfile_str = f\"zipped/{season}eve.zip\"\n",
    "    wget.download(event_url, zipfile_str)\n",
    "    print(f\"Downloaded events for {season}\")\n",
    "    return None"
   ]
  },
  {
   "cell_type": "code",
   "execution_count": 2,
   "id": "def041ce",
   "metadata": {},
   "outputs": [],
   "source": [
    "def extract_event_zip(zip_filepath):\n",
    "    from zipfile import ZipFile\n",
    "    with ZipFile(zip_filepath, 'r') as zipObj:\n",
    "        zipObj.extractall(\"unzipped\")\n",
    "    print(f\"Unzipped Event File to {zip_filepath}\")\n",
    "    return None"
   ]
  },
  {
   "cell_type": "code",
   "execution_count": 3,
   "id": "95712002",
   "metadata": {},
   "outputs": [
    {
     "name": "stdout",
     "output_type": "stream",
     "text": [
      "Downloaded events for 2020\n",
      "Unzipped Event File to zipped/2020eve.zip\n"
     ]
    }
   ],
   "source": [
    "download_event_zips(2020)\n",
    "extract_event_zip('zipped/2020eve.zip')"
   ]
  },
  {
   "cell_type": "code",
   "execution_count": null,
   "id": "ab5a8c10",
   "metadata": {},
   "outputs": [],
   "source": [
    "cmd_str = f\"cwevent -y {season} -f 0-96 {season} *.EV > all{season}.csv\""
   ]
  },
  {
   "cell_type": "code",
   "execution_count": 5,
   "id": "2213bc91",
   "metadata": {},
   "outputs": [
    {
     "data": {
      "text/plain": [
       "0"
      ]
     },
     "execution_count": 5,
     "metadata": {},
     "output_type": "execute_result"
    }
   ],
   "source": [
    "import os\n",
    "os.chdir('chadwick')\n",
    "os.system(\"cwevent -y 2020 2020tor.eva > 2020tor.txt\")"
   ]
  },
  {
   "cell_type": "code",
   "execution_count": 6,
   "id": "bba185d4",
   "metadata": {},
   "outputs": [
    {
     "name": "stdout",
     "output_type": "stream",
     "text": [
      "2020ANA.EVA\n",
      "2020ARI.EVN\n",
      "2020ATL.EVN\n",
      "2020BAL.EVA\n",
      "2020BOS.EVA\n",
      "2020CHA.EVA\n",
      "2020CHN.EVN\n",
      "2020CIN.EVN\n",
      "2020CLE.EVA\n",
      "2020COL.EVN\n",
      "2020DET.EVA\n",
      "2020HOU.EVA\n",
      "2020KCA.EVA\n",
      "2020LAN.EVN\n",
      "2020MIA.EVN\n",
      "2020MIL.EVN\n",
      "2020MIN.EVA\n",
      "2020NYA.EVA\n",
      "2020NYN.EVN\n",
      "2020OAK.EVA\n",
      "2020PHI.EVN\n",
      "2020PIT.EVN\n",
      "2020SDN.EVN\n",
      "2020SEA.EVA\n",
      "2020SFN.EVN\n",
      "2020SLN.EVN\n",
      "2020TBA.EVA\n",
      "2020TEX.EVA\n",
      "2020TOR.EVA\n",
      "2020WAS.EVN\n"
     ]
    }
   ],
   "source": [
    "for filename in os.listdir('.'):\n",
    "    if '.EV' in filename:\n",
    "        print(filename)"
   ]
  },
  {
   "cell_type": "code",
   "execution_count": 7,
   "id": "1a356b9e",
   "metadata": {},
   "outputs": [
    {
     "name": "stdout",
     "output_type": "stream",
     "text": [
      "ANA2020.ROS\n",
      "ARI2020.ROS\n",
      "ATL2020.ROS\n",
      "BAL2020.ROS\n",
      "BOS2020.ROS\n",
      "CHA2020.ROS\n",
      "CHN2020.ROS\n",
      "CIN2020.ROS\n",
      "CLE2020.ROS\n",
      "COL2020.ROS\n",
      "DET2020.ROS\n",
      "HOU2020.ROS\n",
      "KCA2020.ROS\n",
      "LAN2020.ROS\n",
      "MIA2020.ROS\n",
      "MIL2020.ROS\n",
      "MIN2020.ROS\n",
      "NYA2020.ROS\n",
      "NYN2020.ROS\n",
      "OAK2020.ROS\n",
      "PHI2020.ROS\n",
      "PIT2020.ROS\n",
      "SDN2020.ROS\n",
      "SEA2020.ROS\n",
      "SFN2020.ROS\n",
      "SLN2020.ROS\n",
      "TBA2020.ROS\n",
      "TEX2020.ROS\n",
      "TOR2020.ROS\n",
      "WAS2020.ROS\n"
     ]
    }
   ],
   "source": [
    "for filename in os.listdir('.'):\n",
    "    if '.ROS' in filename:\n",
    "        print(filename)"
   ]
  },
  {
   "cell_type": "code",
   "execution_count": 8,
   "id": "5798c743",
   "metadata": {},
   "outputs": [
    {
     "data": {
      "text/plain": [
       "'C:\\\\Users\\\\Michael Kalmus\\\\python_dev\\\\retrosheet_parsing\\\\chadwick'"
      ]
     },
     "execution_count": 8,
     "metadata": {},
     "output_type": "execute_result"
    }
   ],
   "source": [
    "pwd"
   ]
  },
  {
   "cell_type": "code",
   "execution_count": null,
   "id": "d360170f",
   "metadata": {},
   "outputs": [],
   "source": []
  }
 ],
 "metadata": {
  "kernelspec": {
   "display_name": "Python 3",
   "language": "python",
   "name": "python3"
  },
  "language_info": {
   "codemirror_mode": {
    "name": "ipython",
    "version": 3
   },
   "file_extension": ".py",
   "mimetype": "text/x-python",
   "name": "python",
   "nbconvert_exporter": "python",
   "pygments_lexer": "ipython3",
   "version": "3.8.10"
  }
 },
 "nbformat": 4,
 "nbformat_minor": 5
}
